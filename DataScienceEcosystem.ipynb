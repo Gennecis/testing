{
 "cells": [
  {
   "cell_type": "markdown",
   "id": "32d93b96-cb3c-4571-a995-938bc565360e",
   "metadata": {},
   "source": [
    "# Data Science Tools and Ecosystem"
   ]
  },
  {
   "cell_type": "markdown",
   "id": "a3da559c-33d3-421f-a4f1-b74d29bf34ec",
   "metadata": {},
   "source": [
    "## In this notebook, Data Science Tools and Ecosystem are summarized."
   ]
  },
  {
   "cell_type": "markdown",
   "id": "fac324ec-07f9-4009-b7e7-7bf71446ade3",
   "metadata": {},
   "source": [
    "***Objectives:***\n",
    "* List popular languages for Data Science\n",
    "* List some of the common libraries used by Data Scienctists\n",
    "* Introduce some Data Science Tools\n",
    "* Perform simple arithmetic operations"
   ]
  },
  {
   "cell_type": "markdown",
   "id": "1ef7e5f9-e31a-4250-924c-647b1be61150",
   "metadata": {},
   "source": [
    "### Some of the popular languages that Data Scientists use are:\n",
    "1. Python\n",
    "2. R\n",
    "3. SQL\n",
    "4. Scala\n",
    "5. Julia"
   ]
  },
  {
   "cell_type": "markdown",
   "id": "b72822ef-7125-4893-a430-a63d0c828c8a",
   "metadata": {},
   "source": [
    "### Some of the commonly used libraries used by Data Scientists include:\n",
    "1. ggplot\n",
    "2. pandas\n",
    "3. pytorch\n",
    "4. scipy\n",
    "5. scikit-learn\n",
    "6. matplotlib"
   ]
  },
  {
   "cell_type": "markdown",
   "id": "1872bcda-cc7a-44c6-8fd3-8424dca209ba",
   "metadata": {},
   "source": [
    "|Data Science Tools|\n",
    "|-------|\n",
    "|Python |\n",
    "|R |\n",
    "|Jupyter Notebook|"
   ]
  },
  {
   "cell_type": "markdown",
   "id": "903618ac-165c-4cde-906a-6322bd01baf2",
   "metadata": {},
   "source": [
    "### Below are a few examples of evaluating arithmetic expressions in Python"
   ]
  },
  {
   "cell_type": "code",
   "execution_count": 14,
   "id": "a6ba1d37-7864-400e-9c08-2ed98b939222",
   "metadata": {},
   "outputs": [
    {
     "data": {
      "text/plain": [
       "17"
      ]
     },
     "execution_count": 14,
     "metadata": {},
     "output_type": "execute_result"
    }
   ],
   "source": [
    "# this is a simple arithmetic expression to multiply then add intergers\n",
    "(3*4)+5"
   ]
  },
  {
   "cell_type": "code",
   "execution_count": 15,
   "id": "3c82c0cf-f7b3-4cbf-97b0-8eab2f6fc269",
   "metadata": {},
   "outputs": [
    {
     "data": {
      "text/plain": [
       "3.3333333333333335"
      ]
     },
     "execution_count": 15,
     "metadata": {},
     "output_type": "execute_result"
    }
   ],
   "source": [
    "# This will convert 200 minutes to hours by diving by 60\n",
    "200/60"
   ]
  },
  {
   "cell_type": "markdown",
   "id": "8fc591b3-e362-4478-ae31-9b9bf0996b5f",
   "metadata": {},
   "source": [
    "## Author\n",
    "Pascal E. Okezie"
   ]
  }
 ],
 "metadata": {
  "kernelspec": {
   "display_name": "Python 3 (ipykernel)",
   "language": "python",
   "name": "python3"
  },
  "language_info": {
   "codemirror_mode": {
    "name": "ipython",
    "version": 3
   },
   "file_extension": ".py",
   "mimetype": "text/x-python",
   "name": "python",
   "nbconvert_exporter": "python",
   "pygments_lexer": "ipython3",
   "version": "3.11.8"
  }
 },
 "nbformat": 4,
 "nbformat_minor": 5
}
